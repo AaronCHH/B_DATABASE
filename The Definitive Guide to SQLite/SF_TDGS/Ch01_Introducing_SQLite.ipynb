{
 "cells": [
  {
   "cell_type": "markdown",
   "metadata": {},
   "source": [
    "# Chapter 1 Introducing SQLite"
   ]
  },
  {
   "cell_type": "markdown",
   "metadata": {},
   "source": [
    "<div id=\"toc\"></div>"
   ]
  },
  {
   "cell_type": "markdown",
   "metadata": {},
   "source": [
    "http://www.sqlite.org/famous.html"
   ]
  },
  {
   "cell_type": "markdown",
   "metadata": {},
   "source": [
    "## 1.1 An Embedded Database"
   ]
  },
  {
   "cell_type": "markdown",
   "metadata": {},
   "source": [
    "## 1.2 A Developer's Database"
   ]
  },
  {
   "cell_type": "markdown",
   "metadata": {},
   "source": [
    "## 1.3 An Administrator's Database"
   ]
  },
  {
   "cell_type": "markdown",
   "metadata": {},
   "source": [
    "## 1.4 SQLite History"
   ]
  },
  {
   "cell_type": "markdown",
   "metadata": {},
   "source": [
    "## 1.5 Who Uses SQLite"
   ]
  },
  {
   "cell_type": "markdown",
   "metadata": {},
   "source": [
    "## 1.6 Architecture"
   ]
  },
  {
   "cell_type": "markdown",
   "metadata": {},
   "source": [
    "### The Interface\n",
    "### The Compiler\n",
    "### The Virtual Machine\n",
    "### The Back End\n",
    "### Utilities and Test Code"
   ]
  },
  {
   "cell_type": "markdown",
   "metadata": {},
   "source": [
    "## 1.7 SQLite's Features and Philosophy"
   ]
  },
  {
   "cell_type": "markdown",
   "metadata": {},
   "source": [
    "### Zero Configuration\n",
    "### Portability\n",
    "### Compactness\n",
    "### Simplicity"
   ]
  },
  {
   "cell_type": "markdown",
   "metadata": {},
   "source": [
    "http://www.sqlite.org/cvstrac/wiki?p=SqliteWrappers"
   ]
  },
  {
   "cell_type": "markdown",
   "metadata": {},
   "source": [
    "### Flexibility\n",
    "### Liberal Licensing\n",
    "### Reliability\n",
    "### Convenience"
   ]
  },
  {
   "cell_type": "markdown",
   "metadata": {},
   "source": [
    "## 1.8 Performance and Limitations"
   ]
  },
  {
   "cell_type": "markdown",
   "metadata": {},
   "source": [
    "## 1.9 Who Should Read This Book"
   ]
  },
  {
   "cell_type": "markdown",
   "metadata": {},
   "source": [
    "## 1.10 How This Book Is Organized"
   ]
  },
  {
   "cell_type": "markdown",
   "metadata": {},
   "source": [
    "## 1.11 Additional Information"
   ]
  },
  {
   "cell_type": "markdown",
   "metadata": {},
   "source": [
    "http://www.hwaci.com/sw/sqlite/prosupport.html"
   ]
  },
  {
   "cell_type": "markdown",
   "metadata": {},
   "source": [
    "## 1.12 Summary"
   ]
  },
  {
   "cell_type": "markdown",
   "metadata": {
    "collapsed": true
   },
   "source": [
    "__SQLite is not to be confused with other larger databases like Oracle or PostgreSQL.__  \n",
    "Whereas dedicated relational databases such as these are electronic juggernauts, SQLite is a digital Swiss Army knife.  \n",
    "Whereas large-scale dedicated relational databases are designed for thousands of users, SQLite is designed for thousands of uses.  \n",
    "It is more than a database.  \n",
    "Although a tool in its own right, it is a tool for making tools as well.  \n",
    "It is a true utility, engineered to enable you—the developer, user, or administrator—to quickly and easily shape those disparate piles of data into order, and manipulate them to your liking with minimal effort.  \n",
    "SQLite is public domain software. Free.  \n",
    "You can do anything with it or its source code you like.  \n",
    "No licenses, no install programs, no restrictions.  \n",
    "Just copy and run.  \n",
    "It is also portable, well tested, and reliable.  \n",
    "It has a clean, modular design that helps keep the system simple, easy to develop, and easy to debug.  \n",
    "In addition to good design, it has good testing.  \n",
    "There is more code written to test SQLite than there is SQLite code to test.  \n",
    "It should not be too surprising, then, that SQLite has proven itself to be a solid, reliable database over its five-year history.  \n",
    "Finally, SQLite is fun.  \n",
    "At least we think so, and we hope that you will find it equally useful and enjoyable.  \n",
    "If you have any comments or suggestions on this book or its examples, please feel free to contact the authors at sqlitebook@gmail.com (Michael) orgrantondata@gmail.com (Grant).   "
   ]
  },
  {
   "cell_type": "code",
   "execution_count": null,
   "metadata": {
    "collapsed": true
   },
   "outputs": [],
   "source": []
  }
 ],
 "metadata": {
  "kernelspec": {
   "display_name": "Python 3",
   "language": "python",
   "name": "python3"
  },
  "language_info": {
   "codemirror_mode": {
    "name": "ipython",
    "version": 3
   },
   "file_extension": ".py",
   "mimetype": "text/x-python",
   "name": "python",
   "nbconvert_exporter": "python",
   "pygments_lexer": "ipython3",
   "version": "3.6.0"
  }
 },
 "nbformat": 4,
 "nbformat_minor": 1
}
