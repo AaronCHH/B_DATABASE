{
 "cells": [
  {
   "cell_type": "markdown",
   "metadata": {},
   "source": [
    "# Chapter 4 Advanced SQL for SQLite"
   ]
  },
  {
   "cell_type": "markdown",
   "metadata": {},
   "source": [
    "<div id=\"toc\"></div>"
   ]
  },
  {
   "cell_type": "markdown",
   "metadata": {},
   "source": [
    "## 4.1 Modifying Data"
   ]
  },
  {
   "cell_type": "markdown",
   "metadata": {},
   "source": [
    "### Inserting Records"
   ]
  },
  {
   "cell_type": "code",
   "execution_count": null,
   "metadata": {
    "collapsed": true
   },
   "outputs": [],
   "source": [
    "insert into table (column_list) values (value_list);"
   ]
  },
  {
   "cell_type": "markdown",
   "metadata": {},
   "source": [
    "* Inserting One Row"
   ]
  },
  {
   "cell_type": "code",
   "execution_count": null,
   "metadata": {
    "collapsed": true
   },
   "outputs": [],
   "source": [
    "insert into foods (name, type_id) values ('Cinnamon Bobka', 1);"
   ]
  },
  {
   "cell_type": "code",
   "execution_count": null,
   "metadata": {
    "collapsed": true
   },
   "outputs": [],
   "source": [
    "select * from foods where name='Cinnamon Bobka';"
   ]
  },
  {
   "cell_type": "code",
   "execution_count": null,
   "metadata": {
    "collapsed": true
   },
   "outputs": [],
   "source": [
    "select max(id) from foods;"
   ]
  },
  {
   "cell_type": "code",
   "execution_count": null,
   "metadata": {
    "collapsed": true
   },
   "outputs": [],
   "source": [
    "select last_insert_rowid();"
   ]
  },
  {
   "cell_type": "code",
   "execution_count": null,
   "metadata": {
    "collapsed": true
   },
   "outputs": [],
   "source": [
    "insert into foods values(NULL, 1, 'Blueberry Bobka');\n",
    "select * from foods where name like '%Bobka';"
   ]
  },
  {
   "cell_type": "markdown",
   "metadata": {},
   "source": [
    "* Inserting a Set of Rows"
   ]
  },
  {
   "cell_type": "code",
   "execution_count": null,
   "metadata": {
    "collapsed": true
   },
   "outputs": [],
   "source": [
    "insert into foods\n",
    "values (null,\n",
    "       (select id from food_types where name='Bakery'),\n",
    "       'Blackberry Bobka');\n",
    "select * from foods where name like '%Bobka';"
   ]
  },
  {
   "cell_type": "code",
   "execution_count": null,
   "metadata": {
    "collapsed": true
   },
   "outputs": [],
   "source": [
    "insert into foods\n",
    "select last_insert_rowid()+1, type_id, name from foods\n",
    "where name='Chocolate Bobka';\n",
    "select * from foods where name like '%Bobka';"
   ]
  },
  {
   "cell_type": "markdown",
   "metadata": {},
   "source": [
    "* Inserting Multiple Rows"
   ]
  },
  {
   "cell_type": "code",
   "execution_count": null,
   "metadata": {
    "collapsed": true
   },
   "outputs": [],
   "source": [
    "create table foods2 (id int, type_id int, name text);\n",
    "insert into foods2 select * from foods;\n",
    "select count(*) from foods2;"
   ]
  },
  {
   "cell_type": "code",
   "execution_count": null,
   "metadata": {
    "collapsed": true
   },
   "outputs": [],
   "source": [
    "create table foods2 as select * from foods;\n",
    "select count(*) from list;"
   ]
  },
  {
   "cell_type": "code",
   "execution_count": null,
   "metadata": {
    "collapsed": true
   },
   "outputs": [],
   "source": [
    "sqlite> select max(id) from foods; max(id)"
   ]
  },
  {
   "cell_type": "code",
   "execution_count": null,
   "metadata": {
    "collapsed": true
   },
   "outputs": [],
   "source": [
    "sqlitex insert into foods values (416, 1, 'Chocolate Bobka'); \n",
    "SOL error: PRIMARY KEY must be unique"
   ]
  },
  {
   "cell_type": "code",
   "execution_count": null,
   "metadata": {
    "collapsed": true
   },
   "outputs": [],
   "source": [
    "create temp table list as\n",
    "select f.name food, t.name name,\n",
    "       (select count(episode_id)\n",
    "        from foods_episodes where food_id=f.id) episodes\n",
    "from foods f, food_types t\n",
    "where f.type_id=t.id;\n",
    "select * from list;"
   ]
  },
  {
   "cell_type": "markdown",
   "metadata": {},
   "source": [
    "### Updating Records"
   ]
  },
  {
   "cell_type": "code",
   "execution_count": null,
   "metadata": {
    "collapsed": true
   },
   "outputs": [],
   "source": [
    "update foods set name='CHOCOLATE BOBKA'\n",
    "where name='Chocolate Bobka';\n",
    "select * from foods where name like 'CHOCOLATE%';"
   ]
  },
  {
   "cell_type": "markdown",
   "metadata": {},
   "source": [
    "### Deleting Records"
   ]
  },
  {
   "cell_type": "code",
   "execution_count": null,
   "metadata": {
    "collapsed": true
   },
   "outputs": [],
   "source": [
    "delete from foods where name='CHOCOLATE BOBKA';"
   ]
  },
  {
   "cell_type": "markdown",
   "metadata": {},
   "source": [
    "## 4.2 Data Integrity"
   ]
  },
  {
   "cell_type": "code",
   "execution_count": null,
   "metadata": {
    "collapsed": true
   },
   "outputs": [],
   "source": [
    "create table contacts (\n",
    "id integer primary key,\n",
    "name text not null collate nocase,\n",
    "phone text not null default 'UNKNOWN',\n",
    "unique (name,phone) );"
   ]
  },
  {
   "cell_type": "markdown",
   "metadata": {},
   "source": [
    "### Entity Integrity"
   ]
  },
  {
   "cell_type": "markdown",
   "metadata": {},
   "source": [
    "* Unique Constraints"
   ]
  },
  {
   "cell_type": "code",
   "execution_count": null,
   "metadata": {
    "collapsed": true
   },
   "outputs": [],
   "source": [
    "insert into contacts (name,phone) values ('Jerry','UNKNOWN');\n",
    "insert into contacts (name) values ('Jerry');\n",
    "insert into contacts (name,phone) values ('Jerry', '555-1212');"
   ]
  },
  {
   "cell_type": "markdown",
   "metadata": {},
   "source": [
    "* Primary Key Constraints"
   ]
  },
  {
   "cell_type": "code",
   "execution_count": null,
   "metadata": {
    "collapsed": true
   },
   "outputs": [],
   "source": [
    "select rowid, oid,_rowid_,id, name, phone from contacts;"
   ]
  },
  {
   "cell_type": "code",
   "execution_count": null,
   "metadata": {
    "collapsed": true
   },
   "outputs": [],
   "source": [
    "create table maxed_out(id integer primary key autoincrement, x text);\n",
    "insert into maxed_out values (9223372036854775807, 'last one');\n",
    "select * from sqlite_sequence;"
   ]
  },
  {
   "cell_type": "code",
   "execution_count": null,
   "metadata": {
    "collapsed": true
   },
   "outputs": [],
   "source": [
    "drop table maxed_out;\n",
    "create table maxed_out(id integer primary key autoincrement, x text);\n",
    "insert into maxed_out values(10, 'works');\n",
    "select * from sqlite_sequence;"
   ]
  },
  {
   "cell_type": "code",
   "execution_count": null,
   "metadata": {
    "collapsed": true
   },
   "outputs": [],
   "source": [
    "insert into maxed_out values(9, 'works');\n",
    "select * from sqlite_sequence;"
   ]
  },
  {
   "cell_type": "code",
   "execution_count": null,
   "metadata": {
    "collapsed": true
   },
   "outputs": [],
   "source": [
    "insert into maxed_out values (9, 'fails');"
   ]
  },
  {
   "cell_type": "code",
   "execution_count": null,
   "metadata": {
    "collapsed": true
   },
   "outputs": [],
   "source": [
    "insert into maxed_out values (null, 'should be 11');\n",
    "select * from maxed_out;"
   ]
  },
  {
   "cell_type": "code",
   "execution_count": null,
   "metadata": {
    "collapsed": true
   },
   "outputs": [],
   "source": [
    "select * from sqlite_sequence;"
   ]
  },
  {
   "cell_type": "code",
   "execution_count": null,
   "metadata": {
    "collapsed": true
   },
   "outputs": [],
   "source": [
    "create table pkey(x text, y text, primary key(x,y));\n",
    "insert into pkey values ('x','y');\n",
    "insert into pkey values ('x','x');\n",
    "select rowid, x, y from pkey;"
   ]
  },
  {
   "cell_type": "markdown",
   "metadata": {},
   "source": [
    "### Domain Integrity"
   ]
  },
  {
   "cell_type": "markdown",
   "metadata": {},
   "source": [
    "* Default Values"
   ]
  },
  {
   "cell_type": "code",
   "execution_count": null,
   "metadata": {
    "collapsed": true
   },
   "outputs": [],
   "source": [
    "insert into contacts (name) values ('Jerry');\n",
    "select * from contacts;"
   ]
  },
  {
   "cell_type": "code",
   "execution_count": null,
   "metadata": {
    "collapsed": true
   },
   "outputs": [],
   "source": [
    "create table times ( id int,\n",
    "  date not null default current_date,\n",
    "  time not null default current_time,\n",
    "  timestamp not null default current_timestamp );\n",
    "insert into times (id) values (1);\n",
    "insert into times (id) values (2);\n",
    "select * from times;"
   ]
  },
  {
   "cell_type": "markdown",
   "metadata": {},
   "source": [
    "* NOT NULL Constraints"
   ]
  },
  {
   "cell_type": "code",
   "execution_count": null,
   "metadata": {
    "collapsed": true
   },
   "outputs": [],
   "source": [
    "insert into contacts (phone) values ('555-1212');"
   ]
  },
  {
   "cell_type": "markdown",
   "metadata": {},
   "source": [
    "* Check Constraints"
   ]
  },
  {
   "cell_type": "code",
   "execution_count": null,
   "metadata": {
    "collapsed": true
   },
   "outputs": [],
   "source": [
    "create table contacts\n",
    "( id integer primary key,\n",
    "name text not null collate nocase,\n",
    "phone text not null default 'UNKNOWN',\n",
    "unique (name,phone),\n",
    "check (length(phone)>=7) );"
   ]
  },
  {
   "cell_type": "markdown",
   "metadata": {},
   "source": [
    "* Foreign Key Constraints"
   ]
  },
  {
   "cell_type": "code",
   "execution_count": null,
   "metadata": {
    "collapsed": true
   },
   "outputs": [],
   "source": [
    "create table foo\n",
    "( x integer,\n",
    "y integer check (y>x),\n",
    "z integer check (z>abs(y)) );"
   ]
  },
  {
   "cell_type": "code",
   "execution_count": null,
   "metadata": {
    "collapsed": true
   },
   "outputs": [],
   "source": [
    "insert into foo values (-2, -1, 2);\n",
    "insert into foo values (-2, -1, 1);"
   ]
  },
  {
   "cell_type": "code",
   "execution_count": null,
   "metadata": {
    "collapsed": true
   },
   "outputs": [],
   "source": [
    "update foo set y=-3 where x=-3;"
   ]
  },
  {
   "cell_type": "code",
   "execution_count": null,
   "metadata": {
    "collapsed": true
   },
   "outputs": [],
   "source": [
    "create table foods(\n",
    "  id integer primary key,\n",
    "  type_id integer references food_types(id)\n",
    "  on delete restrict\n",
    "  deferrable initially deferred,\n",
    "  name text );"
   ]
  },
  {
   "cell_type": "markdown",
   "metadata": {},
   "source": [
    "* Collations"
   ]
  },
  {
   "cell_type": "code",
   "execution_count": null,
   "metadata": {
    "collapsed": true
   },
   "outputs": [],
   "source": [
    "insert into contacts (name,phone) values ('JERRY','555-1212');"
   ]
  },
  {
   "cell_type": "markdown",
   "metadata": {},
   "source": [
    "### Storage Classes"
   ]
  },
  {
   "cell_type": "code",
   "execution_count": null,
   "metadata": {
    "collapsed": true
   },
   "outputs": [],
   "source": [
    "drop table domain;\n",
    "create table domain(x);\n",
    "insert into domain values (3.142);\n",
    "insert into domain values ('3.142');\n",
    "insert into domain values (3142);\n",
    "insert into domain values (x'3142');\n",
    "insert into domain values (null);\n",
    "select rowid, x, typeof(x) from domain;"
   ]
  },
  {
   "cell_type": "code",
   "execution_count": null,
   "metadata": {
    "collapsed": true
   },
   "outputs": [],
   "source": [
    "select typeof(3.14), typeof('3.14'),\n",
    "       typeof(314), typeof(x'3142'), typeof(NULL);"
   ]
  },
  {
   "cell_type": "markdown",
   "metadata": {},
   "source": [
    "### Views"
   ]
  },
  {
   "cell_type": "code",
   "execution_count": null,
   "metadata": {
    "collapsed": true
   },
   "outputs": [],
   "source": [
    "create view name as select-stmt;"
   ]
  },
  {
   "cell_type": "code",
   "execution_count": null,
   "metadata": {
    "collapsed": true
   },
   "outputs": [],
   "source": [
    "select f.name, ft.name, e.name\n",
    "from foods f\n",
    "inner join food_types ft on f.type_id=ft.id\n",
    "inner join foods_episodes fe on f.id=fe.food_id\n",
    "inner join episodes e on fe.episode_id=e.id;"
   ]
  },
  {
   "cell_type": "code",
   "execution_count": null,
   "metadata": {
    "collapsed": true
   },
   "outputs": [],
   "source": [
    "create view details as\n",
    "select f.name as fd, ft.name as tp, e.name as ep, e.season as ssn\n",
    "from foods f\n",
    "inner join food_types ft on f.type_id=ft.id\n",
    "inner join foods_episodes fe on f.id=fe.food_id\n",
    "inner join episodes e on fe.episode_id=e.id;"
   ]
  },
  {
   "cell_type": "code",
   "execution_count": null,
   "metadata": {
    "collapsed": true
   },
   "outputs": [],
   "source": [
    "select fd as Food, ep as Episode\n",
    "        from details where ssn=7 and tp like 'Drinks';"
   ]
  },
  {
   "cell_type": "code",
   "execution_count": null,
   "metadata": {
    "collapsed": true
   },
   "outputs": [],
   "source": [
    "drop view name;"
   ]
  },
  {
   "cell_type": "markdown",
   "metadata": {},
   "source": [
    "### Indexes"
   ]
  },
  {
   "cell_type": "code",
   "execution_count": null,
   "metadata": {
    "collapsed": true
   },
   "outputs": [],
   "source": [
    "SELECT * FROM foods WHERE name='JujyFruit';"
   ]
  },
  {
   "cell_type": "code",
   "execution_count": null,
   "metadata": {
    "collapsed": true
   },
   "outputs": [],
   "source": [
    "create index [unique] index_name on table_name (columns)"
   ]
  },
  {
   "cell_type": "code",
   "execution_count": null,
   "metadata": {
    "collapsed": true
   },
   "outputs": [],
   "source": [
    "create table foo(a text, b text);\n",
    "create unique index foo_idx on foo(a,b);\n",
    "insert into foo values ('unique', 'value');\n",
    "insert into foo values ('unique', 'value2');\n",
    "insert into foo values ('unique', 'value');"
   ]
  },
  {
   "cell_type": "markdown",
   "metadata": {},
   "source": [
    "* Collations"
   ]
  },
  {
   "cell_type": "code",
   "execution_count": null,
   "metadata": {
    "collapsed": true
   },
   "outputs": [],
   "source": [
    "create index foods_name_idx on foods (name collate nocase);"
   ]
  },
  {
   "cell_type": "code",
   "execution_count": null,
   "metadata": {
    "collapsed": true
   },
   "outputs": [],
   "source": [
    "sqlite> .indices foods foods_name_idx\n",
    "For more information, you can use the .schema shell command as well: \n",
    "sqlite> .schema foods \n",
    "CREATE TABLE foods( \n",
    "    id integer primary key, \n",
    "    type_id integer, name text );\n",
    "CREATE INDEX foods_name_idx on foods (name COLLATE NOCASE);"
   ]
  },
  {
   "cell_type": "markdown",
   "metadata": {},
   "source": [
    "* Index Utilization"
   ]
  },
  {
   "cell_type": "code",
   "execution_count": null,
   "metadata": {
    "collapsed": true
   },
   "outputs": [],
   "source": [
    "column {=|>|>=|<=|<} \n",
    "expression expression \n",
    "{=|>|>=|<=|<} column \n",
    "column IN (expression-list) \n",
    "column IN (subquery)"
   ]
  },
  {
   "cell_type": "code",
   "execution_count": null,
   "metadata": {
    "collapsed": true
   },
   "outputs": [],
   "source": [
    "create table foo (a,b,c,d);\n",
    "\n",
    "create index foo_idx on foo (a,b,c,d);\n",
    "\n",
    "select * from foo where a=1 and b=2 and d=3;\n",
    "\n",
    "select * from foo where a>1 and b=2 and c=3 and d=4;\n",
    "\n",
    "select * from foo where a=1 and b>2 and c=3 and d=4;"
   ]
  },
  {
   "cell_type": "markdown",
   "metadata": {},
   "source": [
    "### Triggers"
   ]
  },
  {
   "cell_type": "code",
   "execution_count": null,
   "metadata": {
    "collapsed": true
   },
   "outputs": [],
   "source": [
    "create [temp|temporary] trigger name\n",
    "[beforejafter] [insert|delete|update|update of columns] on table action"
   ]
  },
  {
   "cell_type": "markdown",
   "metadata": {},
   "source": [
    "* Update Triggers"
   ]
  },
  {
   "cell_type": "code",
   "execution_count": null,
   "metadata": {
    "collapsed": true
   },
   "outputs": [],
   "source": [
    "create temp table log(x);\n",
    "\n",
    "create temp trigger foods_update_log update of name on foods\n",
    "begin\n",
    "  insert into log values('updated foods: new name=' || new.name);\n",
    "end;\n",
    "\n",
    "begin;\n",
    "update foods set name='JUJYFRUIT' where name='JujyFruit';\n",
    "select * from log;\n",
    "rollback;"
   ]
  },
  {
   "cell_type": "code",
   "execution_count": null,
   "metadata": {
    "collapsed": true
   },
   "outputs": [],
   "source": [
    "create temp table log(x);\n",
    "\n",
    "create temp trigger foods_update_log after update of name on foods\n",
    "begin\n",
    "  insert into log values('updated foods: new name=' || new.name);\n",
    "end;\n",
    "\n",
    "begin;\n",
    "update foods set name='JUJYFRUIT' where name='JujyFruit';\n",
    "rollback;"
   ]
  },
  {
   "cell_type": "markdown",
   "metadata": {},
   "source": [
    "* Error Handling"
   ]
  },
  {
   "cell_type": "code",
   "execution_count": null,
   "metadata": {
    "collapsed": true
   },
   "outputs": [],
   "source": [
    "raise(resolution, error_message);"
   ]
  },
  {
   "cell_type": "markdown",
   "metadata": {},
   "source": [
    "* Updatable Views"
   ]
  },
  {
   "cell_type": "code",
   "execution_count": null,
   "metadata": {
    "collapsed": true
   },
   "outputs": [],
   "source": [
    "create view foods_view as\n",
    "  select f.id fid, f.name fname, t.id tid, t.name tname\n",
    "  from foods f, food_types t;"
   ]
  },
  {
   "cell_type": "code",
   "execution_count": null,
   "metadata": {
    "collapsed": true
   },
   "outputs": [],
   "source": [
    "create trigger on_update_foods_view\n",
    "instead of update on foods_view\n",
    "for each row\n",
    "begin\n",
    "   update foods set name=new.fname where id=new.fid;\n",
    "   update food_types set name=new.tname where id=new.tid;\n",
    "end;"
   ]
  },
  {
   "cell_type": "code",
   "execution_count": null,
   "metadata": {
    "collapsed": true
   },
   "outputs": [],
   "source": [
    ".echo on\n",
    "-- Update the view within a transaction\n",
    "begin;\n",
    "update foods_view set fname='Whataburger', tname='Fast Food' where fid=413;\n",
    "-- Now view the underlying rows in the base tables:\n",
    "select * from foods f, food_types t where f.type_id=t.id and f.id=413;\n",
    "-- Roll it back\n",
    "rollback;\n",
    "-- Now look at the original record:\n",
    "select * from foods f, food_types t where f.type_id=t.id and f.id=413;\n",
    "begin;\n",
    "update foods_view set fname='Whataburger', tname='Fast Food' where fid=413;\n",
    "select * from foods f, food_types t where f.type_id=t.id and f.id=413;\n",
    "rollback;\n",
    "select * from foods f, food_types t where f.type_id=t.id and f.id=413;"
   ]
  },
  {
   "cell_type": "markdown",
   "metadata": {},
   "source": [
    "## 4.3 Transactions"
   ]
  },
  {
   "cell_type": "markdown",
   "metadata": {},
   "source": [
    "## Transaction Scopes"
   ]
  },
  {
   "cell_type": "code",
   "execution_count": null,
   "metadata": {
    "collapsed": true
   },
   "outputs": [],
   "source": [
    "begin;\n",
    "delete from foods;\n",
    "rollback;\n",
    "select count(*) from foods;"
   ]
  },
  {
   "cell_type": "markdown",
   "metadata": {},
   "source": [
    "### Conflict Resolution"
   ]
  },
  {
   "cell_type": "code",
   "execution_count": null,
   "metadata": {
    "collapsed": true
   },
   "outputs": [],
   "source": [
    "sqlite> update foods set id=800-id;\n",
    "SOL error: PRIMARY KEY must be unique"
   ]
  },
  {
   "cell_type": "markdown",
   "metadata": {},
   "source": [
    "### Database Locks"
   ]
  },
  {
   "cell_type": "code",
   "execution_count": null,
   "metadata": {
    "collapsed": true
   },
   "outputs": [],
   "source": [
    "create table test as select * from foods;\n",
    "create unique index test_idx on test(id);\n",
    "alter table test add column modified text not null default 'no';\n",
    "select count(*) from test where modified='no';\n",
    "\n",
    "update or fail test set id=800-id, modified='yes';\n",
    "\n",
    "select count(*) from test where modified='yes';\n",
    "\n",
    "drop table test;\n",
    "\n",
    "create temp table cast(name text unique on conflict rollback);\n",
    "insert into cast values ('Jerry');\n",
    "insert into cast values ('Elaine');\n",
    "insert into cast values ('Kramer');\n",
    "\n",
    "begin;\n",
    "insert into cast values('Jerry');\n",
    "commit;"
   ]
  },
  {
   "cell_type": "markdown",
   "metadata": {},
   "source": [
    "### Deadlocks "
   ]
  },
  {
   "cell_type": "code",
   "execution_count": null,
   "metadata": {
    "collapsed": true
   },
   "outputs": [],
   "source": [
    "create trigger foods_update_trg\n",
    "before update of type_id on foods\n",
    "begin\n",
    "  select case\n",
    "     when (select id from food_types where id=new.type_id) is null\n",
    "     then raise( abort,\n",
    "                 'Foreign Key Violation: foods.type_id is not in food_types.id')\n",
    "  end;\n",
    "end\n",
    "\n",
    "explain query plan select * from foods where id = 145;"
   ]
  },
  {
   "cell_type": "markdown",
   "metadata": {},
   "source": [
    "### Transaction Types "
   ]
  },
  {
   "cell_type": "code",
   "execution_count": null,
   "metadata": {
    "collapsed": true
   },
   "outputs": [],
   "source": [
    "begin [ deferred | immediate | exclusive ] transaction;"
   ]
  },
  {
   "cell_type": "markdown",
   "metadata": {},
   "source": [
    "## 4.4 Database Administration"
   ]
  },
  {
   "cell_type": "markdown",
   "metadata": {},
   "source": [
    "### Attaching Databases"
   ]
  },
  {
   "cell_type": "code",
   "execution_count": null,
   "metadata": {
    "collapsed": true
   },
   "outputs": [],
   "source": [
    "attach [databasej/ilenarne as database_name;"
   ]
  },
  {
   "cell_type": "code",
   "execution_count": null,
   "metadata": {
    "collapsed": true
   },
   "outputs": [],
   "source": [
    "sqlite> attach database '/tmp/db' as db2; sqlite> select * from db2.foo;\n",
    "x bar"
   ]
  },
  {
   "cell_type": "code",
   "execution_count": null,
   "metadata": {
    "collapsed": true
   },
   "outputs": [],
   "source": [
    "sqlite> select * from main.foods limit 2; "
   ]
  },
  {
   "cell_type": "code",
   "execution_count": null,
   "metadata": {
    "collapsed": true
   },
   "outputs": [],
   "source": [
    "sqlite> create temp table foo as select * from food_types limit 3; \n",
    "sqlite> select * from temp.foo;"
   ]
  },
  {
   "cell_type": "markdown",
   "metadata": {},
   "source": [
    "### Cleaning Databases"
   ]
  },
  {
   "cell_type": "code",
   "execution_count": null,
   "metadata": {
    "collapsed": true
   },
   "outputs": [],
   "source": [
    "reindex collation_name; \n",
    "reindex table_name|index_name;"
   ]
  },
  {
   "cell_type": "markdown",
   "metadata": {},
   "source": [
    "### Database Configuration"
   ]
  },
  {
   "cell_type": "markdown",
   "metadata": {},
   "source": [
    "* The Connection Cache Size"
   ]
  },
  {
   "cell_type": "code",
   "execution_count": null,
   "metadata": {
    "collapsed": true
   },
   "outputs": [],
   "source": [
    "sqlite> pragma cache_size;\n",
    "cache size 2000\n",
    "sqlite> pragma cache_size=l0000; sqlite> pragma cache_size;\n",
    "cache size 10000"
   ]
  },
  {
   "cell_type": "markdown",
   "metadata": {},
   "source": [
    "* Getting Database Information"
   ]
  },
  {
   "cell_type": "code",
   "execution_count": null,
   "metadata": {
    "collapsed": true
   },
   "outputs": [],
   "source": [
    "sqlite> pragma database_list;"
   ]
  },
  {
   "cell_type": "code",
   "execution_count": null,
   "metadata": {
    "collapsed": true
   },
   "outputs": [],
   "source": [
    "sqlite> create index foods_name_type_idx on foods(name,type_id); "
   ]
  },
  {
   "cell_type": "code",
   "execution_count": null,
   "metadata": {
    "collapsed": true
   },
   "outputs": [],
   "source": [
    "sqlite> pragma index_info(foods_name_type_idx);"
   ]
  },
  {
   "cell_type": "code",
   "execution_count": null,
   "metadata": {
    "collapsed": true
   },
   "outputs": [],
   "source": [
    "sqlite> pragma index_list(foods); \n",
    "seq"
   ]
  },
  {
   "cell_type": "code",
   "execution_count": null,
   "metadata": {
    "collapsed": true
   },
   "outputs": [],
   "source": [
    "sqlite> pragma table_info(foods);"
   ]
  },
  {
   "cell_type": "markdown",
   "metadata": {},
   "source": [
    "* Synchronous Writes"
   ]
  },
  {
   "cell_type": "markdown",
   "metadata": {},
   "source": [
    "* Temporary Storage"
   ]
  },
  {
   "cell_type": "markdown",
   "metadata": {},
   "source": [
    "* Page Size, Encoding, and Autovacuum"
   ]
  },
  {
   "cell_type": "markdown",
   "metadata": {},
   "source": [
    "* Debugging"
   ]
  },
  {
   "cell_type": "markdown",
   "metadata": {},
   "source": [
    "### The System Catalog"
   ]
  },
  {
   "cell_type": "code",
   "execution_count": null,
   "metadata": {
    "collapsed": true
   },
   "outputs": [],
   "source": [
    "sqlite> select type, name, rootpage from sqlite_master;"
   ]
  },
  {
   "cell_type": "code",
   "execution_count": null,
   "metadata": {
    "collapsed": true
   },
   "outputs": [],
   "source": [
    "sqlite> select sql from sqlite_master where name='foods_update_trg';"
   ]
  },
  {
   "cell_type": "code",
   "execution_count": null,
   "metadata": {
    "collapsed": true
   },
   "outputs": [],
   "source": [
    "sqlite> explain query plan select * from foods where id = 145; order"
   ]
  },
  {
   "cell_type": "markdown",
   "metadata": {},
   "source": [
    "### Viewing Query Plans"
   ]
  },
  {
   "cell_type": "markdown",
   "metadata": {},
   "source": [
    "## 4.5 Summary"
   ]
  },
  {
   "cell_type": "markdown",
   "metadata": {},
   "source": [
    "SQL may be a simple language to use, but there is quite a bit of it, and it’s taken us two chapters just to introduce the major concepts for SQLite’s implementation of SQL.  \n",
    "But that shouldn’t be too surprising, because it is the sole interface through which to interact with a relational database.  \n",
    "Whether you are a casual user, system administrator, or developer, you have to know SQL if you are going to work with a relational database.  \n",
    "If you are programming with SQLite, then you should be off to a good start on the SQL side of things.  \n",
    "Now you need to know a little about how SQLite goes about executing all of these commands.  \n",
    "This is where Chapter 5 should prove useful.  \n",
    "It will introduce you to the API and show you how it works in relation to the way SQLite functions internally.   \n"
   ]
  }
 ],
 "metadata": {
  "kernelspec": {
   "display_name": "Python 3",
   "language": "python",
   "name": "python3"
  },
  "language_info": {
   "codemirror_mode": {
    "name": "ipython",
    "version": 3
   },
   "file_extension": ".py",
   "mimetype": "text/x-python",
   "name": "python",
   "nbconvert_exporter": "python",
   "pygments_lexer": "ipython3",
   "version": "3.6.0"
  }
 },
 "nbformat": 4,
 "nbformat_minor": 1
}
