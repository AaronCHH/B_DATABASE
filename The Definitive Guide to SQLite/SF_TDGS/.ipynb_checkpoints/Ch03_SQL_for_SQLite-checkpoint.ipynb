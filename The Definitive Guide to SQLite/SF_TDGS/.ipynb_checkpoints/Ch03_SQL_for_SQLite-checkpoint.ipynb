{
 "cells": [
  {
   "cell_type": "markdown",
   "metadata": {},
   "source": [
    "# Chapter 3 SQL for SQLite"
   ]
  },
  {
   "cell_type": "markdown",
   "metadata": {},
   "source": [
    "<div id=\"toc\"></div>"
   ]
  },
  {
   "cell_type": "markdown",
   "metadata": {},
   "source": [
    "## 3.1 The Example Database"
   ]
  },
  {
   "cell_type": "code",
   "execution_count": null,
   "metadata": {
    "collapsed": true
   },
   "outputs": [],
   "source": [
    "# %load ch03/ch03.sql\n",
    "create table episodes (\n",
    "  id integer primary key,\n",
    "  season int,\n",
    "  name text );\n",
    "\n",
    "create table foods(\n",
    "  id integer primary key,\n",
    "  type_id integer,\n",
    "  name text );\n",
    "\n",
    "create table food_types(\n",
    "  id integer primary key,\n",
    "  name text );\n",
    "\n",
    "create table foods_episodes(\n",
    "  food_id integer,\n",
    "  episode_id integer );"
   ]
  },
  {
   "cell_type": "code",
   "execution_count": null,
   "metadata": {
    "collapsed": true
   },
   "outputs": [],
   "source": [
    "create table episodes ( id integer primary key, season int, name text );\n",
    "create table foods( id integer primary key, type_id integer, name text );\n",
    "create table food_types( id integer primary key, name text );\n",
    "create table foods_episodes( food_id integer, episode_id integer );"
   ]
  },
  {
   "cell_type": "markdown",
   "metadata": {},
   "source": [
    "### Installation"
   ]
  },
  {
   "cell_type": "code",
   "execution_count": null,
   "metadata": {
    "collapsed": true
   },
   "outputs": [],
   "source": [
    "sqlite3 foods.db < foods.sql"
   ]
  },
  {
   "cell_type": "markdown",
   "metadata": {},
   "source": [
    "### Running the Examples"
   ]
  },
  {
   "cell_type": "code",
   "execution_count": null,
   "metadata": {
    "collapsed": true
   },
   "outputs": [],
   "source": [
    "sqlite3 foods.db < foods.sql"
   ]
  },
  {
   "cell_type": "code",
   "execution_count": null,
   "metadata": {
    "collapsed": true
   },
   "outputs": [],
   "source": [
    ".echo on .mode column .headers on .nullvalue NULL"
   ]
  },
  {
   "cell_type": "code",
   "execution_count": null,
   "metadata": {
    "collapsed": true
   },
   "outputs": [],
   "source": [
    "select *\n",
    "from foods\n",
    "where name='JujyFruit'\n",
    "and type_id=9;"
   ]
  },
  {
   "cell_type": "code",
   "execution_count": null,
   "metadata": {
    "collapsed": true
   },
   "outputs": [],
   "source": [
    "select f.name name, types.name type\n",
    "from foods f\n",
    "inner join (\n",
    "  select *\n",
    "  from food_types\n",
    "  where id=6) types\n",
    "on f.type_id=types.id;"
   ]
  },
  {
   "cell_type": "markdown",
   "metadata": {},
   "source": [
    "## 3.2 Syntax"
   ]
  },
  {
   "cell_type": "code",
   "execution_count": null,
   "metadata": {
    "collapsed": true
   },
   "outputs": [],
   "source": [
    "select burger\n",
    "from kitchen\n",
    "where patties=2\n",
    "and toppings='jalopenos'\n",
    "and condiment != 'mayo'\n",
    "limit 1;"
   ]
  },
  {
   "cell_type": "markdown",
   "metadata": {},
   "source": [
    "### Commands"
   ]
  },
  {
   "cell_type": "code",
   "execution_count": null,
   "metadata": {
    "collapsed": true
   },
   "outputs": [],
   "source": [
    "select id, name from foods;\n",
    "insert into foods values (null, 'Whataburger');\n",
    "delete from foods where id=413;"
   ]
  },
  {
   "cell_type": "markdown",
   "metadata": {},
   "source": [
    "### Literals"
   ]
  },
  {
   "cell_type": "code",
   "execution_count": null,
   "metadata": {
    "collapsed": true
   },
   "outputs": [],
   "source": [
    "'Derry'\n",
    "'Newman'\n",
    "'DujyFruit'"
   ]
  },
  {
   "cell_type": "code",
   "execution_count": null,
   "metadata": {
    "collapsed": true
   },
   "outputs": [],
   "source": [
    "'Kenny''s chicken'"
   ]
  },
  {
   "cell_type": "code",
   "execution_count": null,
   "metadata": {
    "collapsed": true
   },
   "outputs": [],
   "source": [
    "3.142\n",
    "6.0221415E23"
   ]
  },
  {
   "cell_type": "code",
   "execution_count": null,
   "metadata": {
    "collapsed": true
   },
   "outputs": [],
   "source": [
    "x'Ol'\n",
    "X'Offf'\n",
    "x'OFOEFF'\n",
    "X'OfOeffab'"
   ]
  },
  {
   "cell_type": "markdown",
   "metadata": {},
   "source": [
    "### Keywords and Identifiers"
   ]
  },
  {
   "cell_type": "code",
   "execution_count": null,
   "metadata": {
    "collapsed": true
   },
   "outputs": [],
   "source": [
    "SELECT * from foo;\n",
    "SeLeCt * FrOm F00;"
   ]
  },
  {
   "cell_type": "markdown",
   "metadata": {},
   "source": [
    "### Comments"
   ]
  },
  {
   "cell_type": "markdown",
   "metadata": {},
   "source": [
    "Comments in SQLite are denoted by two consecutive hyphens (--),  \n",
    "which comment the remaining line, or by the multiline C-style notation (/* */),  \n",
    "which can span multiple lines. Here’s an example:  \n",
    "```sql\n",
    "-- This is a comment on one line \n",
    "/* This is a comment spanning \n",
    "two lines */\n",
    "```"
   ]
  },
  {
   "cell_type": "markdown",
   "metadata": {},
   "source": [
    "## 3.3 Creating a Database"
   ]
  },
  {
   "cell_type": "markdown",
   "metadata": {},
   "source": [
    "### Creating Tables"
   ]
  },
  {
   "cell_type": "code",
   "execution_count": null,
   "metadata": {
    "collapsed": true
   },
   "outputs": [],
   "source": [
    "create [temp] table table_name (column_definitions [, constraints]);"
   ]
  },
  {
   "cell_type": "code",
   "execution_count": null,
   "metadata": {
    "collapsed": true
   },
   "outputs": [],
   "source": [
    "create [temp|temporary] table ... ;"
   ]
  },
  {
   "cell_type": "code",
   "execution_count": null,
   "metadata": {
    "collapsed": true
   },
   "outputs": [],
   "source": [
    "create table contacts ( id integer primary key,\n",
    "                       name text not null collate nocase, \n",
    "                       phone text not null default 'UNKNOWN', \n",
    "                       unique (name,phone) );"
   ]
  },
  {
   "cell_type": "markdown",
   "metadata": {},
   "source": [
    "### Altering Tables"
   ]
  },
  {
   "cell_type": "code",
   "execution_count": null,
   "metadata": {
    "collapsed": true
   },
   "outputs": [],
   "source": [
    "alter table table { rename to name | add column column_def }"
   ]
  },
  {
   "cell_type": "code",
   "execution_count": null,
   "metadata": {
    "collapsed": true
   },
   "outputs": [],
   "source": [
    "alter table contacts\n",
    "        add column email text not null default '' collate nocase;"
   ]
  },
  {
   "cell_type": "code",
   "execution_count": null,
   "metadata": {
    "collapsed": true
   },
   "outputs": [],
   "source": [
    ".schema contacts"
   ]
  },
  {
   "cell_type": "code",
   "execution_count": null,
   "metadata": {
    "collapsed": true
   },
   "outputs": [],
   "source": [
    "create table contacts ( id integer primary key,\n",
    "                        name text not null collate nocase,\n",
    "                        phone text not null default 'UNKNOWN',\n",
    "                        email text not null default '' collate nocase,\n",
    "                        unique (name,phone) );"
   ]
  },
  {
   "cell_type": "markdown",
   "metadata": {},
   "source": [
    "## 3.4 Querying the Database"
   ]
  },
  {
   "cell_type": "markdown",
   "metadata": {},
   "source": [
    "### Relational Operations"
   ]
  },
  {
   "cell_type": "markdown",
   "metadata": {},
   "source": [
    "### Select and the Operational Pipeline "
   ]
  },
  {
   "cell_type": "code",
   "execution_count": null,
   "metadata": {
    "collapsed": true
   },
   "outputs": [],
   "source": [
    "select [distinct] heading \n",
    "from tables \n",
    "where predicate \n",
    "group by columns \n",
    "having predicate \n",
    "order by columns \n",
    "limit count, offset;"
   ]
  },
  {
   "cell_type": "code",
   "execution_count": null,
   "metadata": {
    "collapsed": true
   },
   "outputs": [],
   "source": [
    "select heading from tables where predicate;"
   ]
  },
  {
   "cell_type": "code",
   "execution_count": null,
   "metadata": {
    "collapsed": true
   },
   "outputs": [],
   "source": [
    "sqlite> select id, name from foodjtypes;"
   ]
  },
  {
   "cell_type": "code",
   "execution_count": null,
   "metadata": {
    "collapsed": true
   },
   "outputs": [],
   "source": [
    "select * from foodjtypes; "
   ]
  },
  {
   "cell_type": "markdown",
   "metadata": {},
   "source": [
    "### Filtering "
   ]
  },
  {
   "cell_type": "code",
   "execution_count": null,
   "metadata": {
    "collapsed": true
   },
   "outputs": [],
   "source": [
    "select * from dogs where color='purple' and grin='toothy';"
   ]
  },
  {
   "cell_type": "code",
   "execution_count": null,
   "metadata": {
    "collapsed": true
   },
   "outputs": [],
   "source": []
  },
  {
   "cell_type": "markdown",
   "metadata": {},
   "source": [
    "* Values"
   ]
  },
  {
   "cell_type": "markdown",
   "metadata": {},
   "source": [
    "* Operators"
   ]
  },
  {
   "cell_type": "code",
   "execution_count": null,
   "metadata": {
    "collapsed": true
   },
   "outputs": [],
   "source": [
    "x = count(episodes.name) y = count(foods.name) z = y/x * 11"
   ]
  },
  {
   "cell_type": "markdown",
   "metadata": {},
   "source": [
    "* Binary Operators"
   ]
  },
  {
   "cell_type": "code",
   "execution_count": null,
   "metadata": {
    "collapsed": true
   },
   "outputs": [],
   "source": [
    "x>5\n",
    "1<2"
   ]
  },
  {
   "cell_type": "code",
   "execution_count": null,
   "metadata": {
    "collapsed": true
   },
   "outputs": [],
   "source": [
    "sqlite> SELECT l>2;\n",
    "l>2"
   ]
  },
  {
   "cell_type": "code",
   "execution_count": null,
   "metadata": {
    "collapsed": true
   },
   "outputs": [],
   "source": [
    "sqlite> SELECT l<2;\n",
    "l<2"
   ]
  },
  {
   "cell_type": "code",
   "execution_count": null,
   "metadata": {
    "collapsed": true
   },
   "outputs": [],
   "source": [
    "sqlite> SELECT 1=2;\n",
    "1=2"
   ]
  },
  {
   "cell_type": "code",
   "execution_count": null,
   "metadata": {
    "collapsed": true
   },
   "outputs": [],
   "source": [
    "sqlite> SELECT -1 AND l;\n",
    "-1 AND 1 1"
   ]
  },
  {
   "cell_type": "markdown",
   "metadata": {},
   "source": [
    "* Logical Operators"
   ]
  },
  {
   "cell_type": "code",
   "execution_count": null,
   "metadata": {
    "collapsed": true
   },
   "outputs": [],
   "source": [
    "(x > 5) AND (x != 3)\n",
    "(y < 2) OR (y > 4) AND NOT (y = 0)\n",
    "(color='purple') AND (grin='toothy')"
   ]
  },
  {
   "cell_type": "code",
   "execution_count": null,
   "metadata": {
    "collapsed": true
   },
   "outputs": [],
   "source": [
    "sqlite> select * from foods where name='3ujyFruit' and type_id=9;"
   ]
  },
  {
   "cell_type": "markdown",
   "metadata": {},
   "source": [
    "* The LIKE and GLOB Operators"
   ]
  },
  {
   "cell_type": "code",
   "execution_count": null,
   "metadata": {
    "collapsed": true
   },
   "outputs": [],
   "source": [
    "select id, name from foods where name like 'J%';"
   ]
  },
  {
   "cell_type": "code",
   "execution_count": null,
   "metadata": {
    "collapsed": true
   },
   "outputs": [],
   "source": [
    "select id, name from foods where name like '%ac%P%';"
   ]
  },
  {
   "cell_type": "code",
   "execution_count": null,
   "metadata": {
    "collapsed": true
   },
   "outputs": [],
   "source": [
    "select id, name from foods\n",
    "        where name like '%ac%P%' and name not like '%Sch%'"
   ]
  },
  {
   "cell_type": "code",
   "execution_count": null,
   "metadata": {
    "collapsed": true
   },
   "outputs": [],
   "source": [
    "sqlite> select id, name from foods \n",
    "...> where name glob 'Pine*';"
   ]
  },
  {
   "cell_type": "markdown",
   "metadata": {},
   "source": [
    "### Limiting and Ordering"
   ]
  },
  {
   "cell_type": "code",
   "execution_count": null,
   "metadata": {
    "collapsed": true
   },
   "outputs": [],
   "source": [
    "select * from food_types order by id limit 1 offset 1;"
   ]
  },
  {
   "cell_type": "code",
   "execution_count": null,
   "metadata": {
    "collapsed": true
   },
   "outputs": [],
   "source": [
    "select * from foods where name like 'B%'\n",
    "        order by type_id desc, name limit 10;"
   ]
  },
  {
   "cell_type": "code",
   "execution_count": null,
   "metadata": {
    "collapsed": true
   },
   "outputs": [],
   "source": [
    "select * from foods where name like 'B%'\n",
    "order by type_id desc, name limit 1 offset 2;"
   ]
  },
  {
   "cell_type": "code",
   "execution_count": null,
   "metadata": {
    "collapsed": true
   },
   "outputs": [],
   "source": [
    "select * from foods where name like 'B%'\n",
    "        order by type_id desc, name limit 2,1;"
   ]
  },
  {
   "cell_type": "markdown",
   "metadata": {},
   "source": [
    "### Functions and Aggregates"
   ]
  },
  {
   "cell_type": "code",
   "execution_count": null,
   "metadata": {
    "collapsed": true
   },
   "outputs": [],
   "source": [
    "select upper('hello newman'), length('hello newman'), abs(-12);"
   ]
  },
  {
   "cell_type": "code",
   "execution_count": null,
   "metadata": {
    "collapsed": true
   },
   "outputs": [],
   "source": [
    "select id, upper(name), length(name) from foods\n",
    "        where type_id=1 limit 10;"
   ]
  },
  {
   "cell_type": "code",
   "execution_count": null,
   "metadata": {
    "collapsed": true
   },
   "outputs": [],
   "source": [
    "select id, upper(name), length(name) from foods\n",
    "        where length(name) < 5 limit 5;"
   ]
  },
  {
   "cell_type": "code",
   "execution_count": null,
   "metadata": {
    "collapsed": true
   },
   "outputs": [],
   "source": [
    "select count(*) from foods where type_id=1;"
   ]
  },
  {
   "cell_type": "code",
   "execution_count": null,
   "metadata": {
    "collapsed": true
   },
   "outputs": [],
   "source": [
    "select avg(length(name)) from foods;"
   ]
  },
  {
   "cell_type": "code",
   "execution_count": null,
   "metadata": {
    "collapsed": true
   },
   "outputs": [],
   "source": [
    "select type_id from foods group by type_id;"
   ]
  },
  {
   "cell_type": "markdown",
   "metadata": {},
   "source": [
    "### Grouping"
   ]
  },
  {
   "cell_type": "code",
   "execution_count": null,
   "metadata": {
    "collapsed": true
   },
   "outputs": [],
   "source": [
    "select type_id, count(*) from foods group by type_id;"
   ]
  },
  {
   "cell_type": "code",
   "execution_count": null,
   "metadata": {
    "collapsed": true
   },
   "outputs": [],
   "source": [
    "select type_id, count(*) from foods\n",
    "        group by type_id having count(*) < 20;"
   ]
  },
  {
   "cell_type": "code",
   "execution_count": null,
   "metadata": {
    "collapsed": true
   },
   "outputs": [],
   "source": [
    "select type_id, count(*) from foods;"
   ]
  },
  {
   "cell_type": "markdown",
   "metadata": {},
   "source": [
    "### Removing Duplicates"
   ]
  },
  {
   "cell_type": "code",
   "execution_count": null,
   "metadata": {
    "collapsed": true
   },
   "outputs": [],
   "source": [
    "select distinct type_id from foods;"
   ]
  },
  {
   "cell_type": "code",
   "execution_count": null,
   "metadata": {
    "collapsed": true
   },
   "outputs": [],
   "source": [
    "select foods.name, food_types.name\n",
    "        from foods, food_types\n",
    "        where foods.type_id=food_types.id limit 10;"
   ]
  },
  {
   "cell_type": "markdown",
   "metadata": {},
   "source": [
    "* Inner Joins"
   ]
  },
  {
   "cell_type": "code",
   "execution_count": null,
   "metadata": {
    "collapsed": true
   },
   "outputs": [],
   "source": [
    "Select *\n",
    "From foods inner join food_types on foods.id = food_types.id;"
   ]
  },
  {
   "cell_type": "markdown",
   "metadata": {},
   "source": [
    "* Cross Joins"
   ]
  },
  {
   "cell_type": "code",
   "execution_count": null,
   "metadata": {
    "collapsed": true
   },
   "outputs": [],
   "source": [
    "select * from foods, food_types;"
   ]
  },
  {
   "cell_type": "markdown",
   "metadata": {},
   "source": [
    "* Outer Joins"
   ]
  },
  {
   "cell_type": "code",
   "execution_count": null,
   "metadata": {
    "collapsed": true
   },
   "outputs": [],
   "source": [
    "select *\n",
    "from foods left outer join foods_episodes on foods.id=foods_episodes.food_id;"
   ]
  },
  {
   "cell_type": "markdown",
   "metadata": {},
   "source": [
    "* Natural Joins"
   ]
  },
  {
   "cell_type": "markdown",
   "metadata": {},
   "source": [
    "* Preferred Syntax"
   ]
  },
  {
   "cell_type": "code",
   "execution_count": null,
   "metadata": {
    "collapsed": true
   },
   "outputs": [],
   "source": [
    "select * from foods, food_types where foods.id=food_types.food_id;"
   ]
  },
  {
   "cell_type": "code",
   "execution_count": null,
   "metadata": {
    "collapsed": true
   },
   "outputs": [],
   "source": [
    "select * from foods inner join food_types on foods.id=food_types.food_id;\n",
    "select * from foods left outer join food_types on foods.id=food_types.food_id;\n",
    "select * from foods cross join food_types;"
   ]
  },
  {
   "cell_type": "markdown",
   "metadata": {},
   "source": [
    "### Names and Aliases"
   ]
  },
  {
   "cell_type": "code",
   "execution_count": null,
   "metadata": {
    "collapsed": true
   },
   "outputs": [],
   "source": [
    "select foods.name, food_types.name\n",
    "from foods, food_types\n",
    "where foods.type_id = food_types.id\n",
    "limit 10;"
   ]
  },
  {
   "cell_type": "code",
   "execution_count": null,
   "metadata": {
    "collapsed": true
   },
   "outputs": [],
   "source": [
    "select f.name, t.name\n",
    "from foods f, food_types t\n",
    "where f.type_id = t.id\n",
    "limit 10;"
   ]
  },
  {
   "cell_type": "code",
   "execution_count": null,
   "metadata": {
    "collapsed": true
   },
   "outputs": [],
   "source": [
    "select f.name as food, e1.name, e1.season, e2.name, e2.season\n",
    "from episodes e1, foods_episodes fe1, foods f,\n",
    "     episodes e2, foods_episodes fe2\n",
    "where\n",
    "  -- Get foods in season 4\n",
    "  (e1.id = fe1.episode_id and e1.season = 4) and fe1.food_id = f.id\n",
    "  -- Link foods with all other epsisodes\n",
    "  and (fe1.food_id = fe2.food_id)\n",
    "  -- Link with their respective episodes and filter out e1's season\n",
    "  and (fe2.episode_id = e2.id AND e2.season != e1.season)\n",
    "order by f.name;   "
   ]
  },
  {
   "cell_type": "markdown",
   "metadata": {},
   "source": [
    "### Subqueries"
   ]
  },
  {
   "cell_type": "code",
   "execution_count": null,
   "metadata": {
    "collapsed": true
   },
   "outputs": [],
   "source": [
    "sqlite> select 1 in (l,2,3);"
   ]
  },
  {
   "cell_type": "code",
   "execution_count": null,
   "metadata": {
    "collapsed": true
   },
   "outputs": [],
   "source": [
    "sqlite> select 2 in (3,4,5);"
   ]
  },
  {
   "cell_type": "code",
   "execution_count": null,
   "metadata": {
    "collapsed": true
   },
   "outputs": [],
   "source": [
    "sqlite> select count(*)\n",
    "...> from foods\n",
    "...> where type_id in (l,2);"
   ]
  },
  {
   "cell_type": "code",
   "execution_count": null,
   "metadata": {
    "collapsed": true
   },
   "outputs": [],
   "source": [
    "select count(*)\n",
    "from foods\n",
    "where type_id in\n",
    " (select id\n",
    "  from food_types\n",
    "  where name='Bakery' or name='Cereal');"
   ]
  },
  {
   "cell_type": "markdown",
   "metadata": {},
   "source": [
    "### Compound Queries"
   ]
  },
  {
   "cell_type": "code",
   "execution_count": null,
   "metadata": {
    "collapsed": true
   },
   "outputs": [],
   "source": [
    "select * from foods f\n",
    "order by (select count(type_id)\n",
    "from foods where type_id=f.type_id) desc;"
   ]
  },
  {
   "cell_type": "code",
   "execution_count": null,
   "metadata": {
    "collapsed": true
   },
   "outputs": [],
   "source": [
    "select f.name, types.name from foods f\n",
    "inner join (select * from food_types where id=6) types\n",
    "on f.type_id=types.id;"
   ]
  },
  {
   "cell_type": "code",
   "execution_count": null,
   "metadata": {
    "collapsed": true
   },
   "outputs": [],
   "source": [
    "select f.*, top_foods.count from foods f\n",
    "inner join\n",
    "  (select food_id, count(food_id) as count from foods_episodes\n",
    "     group by food_id\n",
    "     order by count(food_id) desc limit 1) top_foods\n",
    "  on f.id=top_foods.food_id\n",
    "union\n",
    "select f.*, bottom_foods.count from foods f\n",
    "inner join\n",
    "  (select food_id, count(food_id) as count from foods_episodes\n",
    "     group by food_id\n",
    "     order by count(food_id) limit 1) bottom_foods\n",
    "  on f.id=bottom_foods.food_id\n",
    "order by top_foods.count desc;"
   ]
  },
  {
   "cell_type": "code",
   "execution_count": null,
   "metadata": {
    "collapsed": true
   },
   "outputs": [],
   "source": [
    "select f.* from foods f\n",
    "inner join\n",
    "  (select food_id, count(food_id) as count\n",
    "     from foods_episodes\n",
    "     group by food_id\n",
    "     order by count(food_id) desc limit 10) top_foods\n",
    "  on f.id=top_foods.food_id\n",
    "intersect\n",
    "select f.* from foods f\n",
    "  inner join foods_episodes fe on f.id = fe.food_id\n",
    "  inner join episodes e on fe.episode_id = e.id\n",
    "  where e.season between 3 and 5\n",
    "order by f.name;"
   ]
  },
  {
   "cell_type": "code",
   "execution_count": null,
   "metadata": {
    "collapsed": true
   },
   "outputs": [],
   "source": [
    "select f.* from foods f\n",
    "inner join\n",
    "  (select food_id, count(food_id) as count from foods_episodes\n",
    "     group by food_id\n",
    "     order by count(food_id) desc limit 10) top_foods\n",
    "  on f.id=top_foods.food_id\n",
    "except\n",
    "select f.* from foods f\n",
    "  inner join foods_episodes fe on f.id = fe.food_id\n",
    "  inner join episodes e on fe.episode_id = e.id\n",
    "  where e.season between 3 and 5\n",
    "order by f.name;"
   ]
  },
  {
   "cell_type": "markdown",
   "metadata": {},
   "source": [
    "### Conditional Results"
   ]
  },
  {
   "cell_type": "code",
   "execution_count": null,
   "metadata": {
    "collapsed": true
   },
   "outputs": [],
   "source": [
    "select name || case type_id\n",
    "                 when 7  then ' is a drink'\n",
    "                 when 8  then ' is a fruit'\n",
    "                 when 9  then ' is junkfood'\n",
    "                 when 13 then ' is seafood'\n",
    "                 else null\n",
    "               end description\n",
    "from foods\n",
    "where description is not null\n",
    "order by name\n",
    "limit 10;"
   ]
  },
  {
   "cell_type": "code",
   "execution_count": null,
   "metadata": {
    "collapsed": true
   },
   "outputs": [],
   "source": [
    "case\n",
    "    when count(*) > 4 then 'Very High'\n",
    "    when count(*) = 4 then 'High'\n",
    "    when count(*) in (2,3) then 'Moderate'\n",
    "    else 'Low'\n",
    "end "
   ]
  },
  {
   "cell_type": "code",
   "execution_count": null,
   "metadata": {
    "collapsed": true
   },
   "outputs": [],
   "source": [
    "select name,( select \n",
    "                case\n",
    "                    when count(*) > 4 then 'Very High'\n",
    "                    when count(*) = 4 then 'High'\n",
    "                    when count(*) in (2,3) then 'Moderate'\n",
    "                    else 'Low'\n",
    "                end \n",
    "            )\n",
    "            from foods_episodes\n",
    "            where food_id=f.id) frequency\n",
    "from foods f\n",
    "where frequency like '%High';\n",
    "\n",
    "### Joining Tables"
   ]
  },
  {
   "cell_type": "markdown",
   "metadata": {},
   "source": [
    "### Handling Null in SQLite"
   ]
  },
  {
   "cell_type": "code",
   "execution_count": null,
   "metadata": {
    "collapsed": true
   },
   "outputs": [],
   "source": [
    "select *\n",
    "from mytable\n",
    "where myvalue = null;"
   ]
  },
  {
   "cell_type": "code",
   "execution_count": null,
   "metadata": {
    "collapsed": true
   },
   "outputs": [],
   "source": [
    "sqlite> select NULL is NULL;"
   ]
  },
  {
   "cell_type": "code",
   "execution_count": null,
   "metadata": {
    "collapsed": true
   },
   "outputs": [],
   "source": [
    "sqlite> select nullif(l,l); null\n",
    "sqlite> select nullif(l,2);"
   ]
  },
  {
   "cell_type": "markdown",
   "metadata": {},
   "source": [
    "### Summary"
   ]
  },
  {
   "cell_type": "markdown",
   "metadata": {},
   "source": [
    "Congratulations, youhave learned the select command for SQLite’s implementation of SQL.  \n",
    "Not only have you learned how the command works, but you’ve learned some relational theory in the process.  \n",
    "You should now be comfortable with using select statements to queryyour data, join, aggregate, summarize, and dissect it for various uses.  \n",
    "We’ll continue the discussion of SQL in the next chapter, where we’ll build on your knowledge of select by introducing the other members of DML, as well as DDL and other helpful SQL constructs in SQLite.  \n",
    "    \n"
   ]
  },
  {
   "cell_type": "code",
   "execution_count": null,
   "metadata": {
    "collapsed": true
   },
   "outputs": [],
   "source": []
  }
 ],
 "metadata": {
  "kernelspec": {
   "display_name": "Python 3",
   "language": "python",
   "name": "python3"
  },
  "language_info": {
   "codemirror_mode": {
    "name": "ipython",
    "version": 3
   },
   "file_extension": ".py",
   "mimetype": "text/x-python",
   "name": "python",
   "nbconvert_exporter": "python",
   "pygments_lexer": "ipython3",
   "version": "3.6.0"
  }
 },
 "nbformat": 4,
 "nbformat_minor": 1
}
